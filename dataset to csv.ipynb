{
 "cells": [
  {
   "cell_type": "code",
   "execution_count": 20,
   "metadata": {},
   "outputs": [],
   "source": [
    "import codecs\n",
    "import pandas as pd\n",
    "# fileObj = codecs.open( \"someFilePath\", \"r\", \"utf_8_sig\" )"
   ]
  },
  {
   "cell_type": "code",
   "execution_count": 23,
   "metadata": {},
   "outputs": [],
   "source": [
    "df = pd.DataFrame( columns=['lable', 'text'])\n",
    "with codecs.open( \"D:\\project\\magai_lab3_gennn-team-6/avidreaders.ru__garri-potter-i-metody-racionalnogo-myshleniya.txt\", \"r\", \"utf_8_sig\" ) as file:\n",
    "    lines=file.readlines()\n",
    "    for line in lines:\n",
    "        # line = file.readline()\n",
    "        if (line != '\\n') and (line !=\"***\\n\") and (line !=\"...\\n\"):\n",
    "            line=line.replace('\\n', '', 1)\n",
    "            # print(line,type(line))\n",
    "            df.loc[len(df.index)]=[1 , line]\n",
    "        "
   ]
  },
  {
   "cell_type": "code",
   "execution_count": 24,
   "metadata": {},
   "outputs": [],
   "source": [
    "df.to_csv(\"./dataHPMRM.csv\")"
   ]
  }
 ],
 "metadata": {
  "kernelspec": {
   "display_name": "Python 3.9.13 ('base')",
   "language": "python",
   "name": "python3"
  },
  "language_info": {
   "codemirror_mode": {
    "name": "ipython",
    "version": 3
   },
   "file_extension": ".py",
   "mimetype": "text/x-python",
   "name": "python",
   "nbconvert_exporter": "python",
   "pygments_lexer": "ipython3",
   "version": "3.9.13"
  },
  "orig_nbformat": 4,
  "vscode": {
   "interpreter": {
    "hash": "3c05aa4aacc3846fa4cd34ace5ac6047d6b88a1f81619af340efafced5e57c11"
   }
  }
 },
 "nbformat": 4,
 "nbformat_minor": 2
}
